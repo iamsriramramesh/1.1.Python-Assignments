{
 "cells": [
  {
   "cell_type": "code",
   "execution_count": 4,
   "metadata": {},
   "outputs": [
    {
     "name": "stdout",
     "output_type": "stream",
     "text": [
      "value: 4\n",
      "Incorret\n"
     ]
    }
   ],
   "source": [
    "# print 'CORRECT' if i == 10\n",
    "\n",
    "i=int(input(\"value: \"))\n",
    "if (i==10):\n",
    "    print(\"Corret\")\n",
    "else:\n",
    "    print(\"Incorret\")"
   ]
  },
  {
   "cell_type": "code",
   "execution_count": 5,
   "metadata": {},
   "outputs": [
    {
     "name": "stdout",
     "output_type": "stream",
     "text": [
      "Enter the password: HOPE@123\n",
      "Your password is correct\n"
     ]
    }
   ],
   "source": [
    "#Check the password, using if and else\n",
    "\n",
    "PASSWORD=input(\"Enter the password: \")\n",
    "if (PASSWORD==\"HOPE@123\"):\n",
    "    print(\"Your password is correct\")\n",
    "else:\n",
    "    print(\"Your password is incorrect\")"
   ]
  },
  {
   "cell_type": "code",
   "execution_count": 6,
   "metadata": {},
   "outputs": [
    {
     "name": "stdout",
     "output_type": "stream",
     "text": [
      "age: 20\n",
      "adult\n"
     ]
    }
   ],
   "source": [
    "#Catagory the people by their age like children, adult, citizen, senior citizen...\n",
    "\n",
    "AGE=int(input(\"age: \"))\n",
    "if(AGE<18):\n",
    "    print(\"children\")\n",
    "elif(AGE<35):\n",
    "    print(\"adult\")\n",
    "elif(AGE<50):\n",
    "    print(\"citizen\")\n",
    "else:\n",
    "    print(\"senior citizen\")"
   ]
  },
  {
   "cell_type": "code",
   "execution_count": 7,
   "metadata": {},
   "outputs": [
    {
     "name": "stdout",
     "output_type": "stream",
     "text": [
      "Enter any number:1\n",
      "No is positive\n"
     ]
    }
   ],
   "source": [
    "#Find whether given number is positive or negative\n",
    "\n",
    "positiveNegative= int(input(\"Enter any number:\"))\n",
    "if (positiveNegative<0):\n",
    "    print(\"No is negative\")\n",
    "else:\n",
    "    print(\"No is positive\")"
   ]
  },
  {
   "cell_type": "code",
   "execution_count": 8,
   "metadata": {},
   "outputs": [
    {
     "name": "stdout",
     "output_type": "stream",
     "text": [
      "Enter a number to check22\n",
      "No is not divisible by 5\n"
     ]
    }
   ],
   "source": [
    "#Check whether the given number is divisible by 5\n",
    "\n",
    "num= int(input(\"Enter a number to check\"))\n",
    "if (num%5==0):\n",
    "    print(\"No is divisible by 5\")\n",
    "else:\n",
    "    print(\"No is not divisible by 5\")"
   ]
  },
  {
   "cell_type": "markdown",
   "metadata": {},
   "source": []
  }
 ],
 "metadata": {
  "kernelspec": {
   "display_name": "Python 3",
   "language": "python",
   "name": "python3"
  },
  "language_info": {
   "codemirror_mode": {
    "name": "ipython",
    "version": 3
   },
   "file_extension": ".py",
   "mimetype": "text/x-python",
   "name": "python",
   "nbconvert_exporter": "python",
   "pygments_lexer": "ipython3",
   "version": "3.7.4"
  }
 },
 "nbformat": 4,
 "nbformat_minor": 2
}
